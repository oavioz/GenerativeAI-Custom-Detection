[InternetShortcut]
URL=vscode-remote://ssh-remote%2Brambo2/home/liranc6/War_project/classifier.ipynb
